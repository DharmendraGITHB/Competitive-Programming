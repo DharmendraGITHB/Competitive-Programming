{
  "metadata": {
    "language_info": {
      "codemirror_mode": {
        "name": "python",
        "version": 3
      },
      "file_extension": ".py",
      "mimetype": "text/x-python",
      "name": "python",
      "nbconvert_exporter": "python",
      "pygments_lexer": "ipython3",
      "version": "3.8"
    },
    "kernelspec": {
      "name": "python",
      "display_name": "Pyolite",
      "language": "python"
    }
  },
  "nbformat_minor": 4,
  "nbformat": 4,
  "cells": [
    {
      "cell_type": "markdown",
      "source": "### 28 june 2022 problem of the day gfg",
      "metadata": {}
    },
    {
      "cell_type": "markdown",
      "source": "## Sum of all elements between k1’th and k2’th smallest elements\nGiven an array of integers and two numbers k1 and k2. Find the sum of all elements between given two k1’th and k2’th smallest elements of the array. It may be assumed that (1 <= k1 < k2 <= n) and all elements of array are distinct.\n\nInput : arr[] = {20, 8, 22, 4, 12, 10, 14},  k1 = 3,  k2 = 6  \nOutput : 26          \n         3rd smallest element is 10. 6th smallest element \n         is 20. Sum of all element between k1 & k2 is\n         12 + 14 = 26\n\nInput : arr[] = {10, 2, 50, 12, 48, 13}, k1 = 2, k2 = 6 \nOutput : 73 ",
      "metadata": {}
    },
    {
      "cell_type": "code",
      "source": "def sumBetweenTwoKth(A, N, K1, K2):\n    sum = 0\n    A.sort()                         # check sort() vs sorted() \n        \n    for i in range(K1, K2-1):       # K1,K2 is indices of array in range \n        sum += A[i]                 # sum = sum + A[i]\n    return sum\nA = [20, 8, 22, 4, 12, 10, 14]      \nK1= 3\nK2 = 6\nN= len(arr)\nprint(sumBetweenTwoKth(A,N,K1,K2))\n      ",
      "metadata": {
        "trusted": true
      },
      "execution_count": 27,
      "outputs": [
        {
          "name": "stdout",
          "text": "26\n",
          "output_type": "stream"
        }
      ]
    },
    {
      "cell_type": "markdown",
      "source": "Time Complexity\nAs we are sorting the array of size N, so the time complexity is O(N*log2(N)).\n\nSpace Complexity\nAs we are not using any extra space so the space complexity is O(1).",
      "metadata": {}
    },
    {
      "cell_type": "code",
      "source": "",
      "metadata": {},
      "execution_count": null,
      "outputs": []
    }
  ]
}