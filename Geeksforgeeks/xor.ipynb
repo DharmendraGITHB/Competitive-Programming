{
  "metadata": {
    "language_info": {
      "codemirror_mode": {
        "name": "python",
        "version": 3
      },
      "file_extension": ".py",
      "mimetype": "text/x-python",
      "name": "python",
      "nbconvert_exporter": "python",
      "pygments_lexer": "ipython3",
      "version": "3.8"
    },
    "kernelspec": {
      "name": "python",
      "display_name": "Python (Pyodide)",
      "language": "python"
    }
  },
  "nbformat_minor": 4,
  "nbformat": 4,
  "cells": [
    {
      "cell_type": "markdown",
      "source": "### Minimum X (xor) A \n\nGiven two integers A and B, the task is to find an integer X such that (X XOR A) is minimum possible and the count of set bit in X is equal to the count of set bits in B.",
      "metadata": {}
    },
    {
      "cell_type": "markdown",
      "source": "Example 1:\n\nInput: \nA = 3, B = 5\nOutput: 3\nExplanation:\nBinary(A) = Binary(3) = 011\nBinary(B) = Binary(5) = 101\nThe XOR will be minimum when x = 3\ni.e. (3 XOR 3) = 0 and the number\nof set bits in 3 is equal\nto the number of set bits in 5.",
      "metadata": {}
    },
    {
      "cell_type": "markdown",
      "source": "Expected Time Complexity : O(log N)\nExpected Auxiliary Space : O(1)",
      "metadata": {}
    },
    {
      "cell_type": "code",
      "source": "",
      "metadata": {},
      "execution_count": null,
      "outputs": []
    }
  ]
}