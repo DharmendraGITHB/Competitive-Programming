{
  "metadata": {
    "kernelspec": {
      "display_name": "Pyolite",
      "language": "python",
      "name": "python"
    },
    "language_info": {
      "codemirror_mode": {
        "name": "python",
        "version": 3
      },
      "file_extension": ".py",
      "mimetype": "text/x-python",
      "name": "python",
      "nbconvert_exporter": "python",
      "pygments_lexer": "ipython3",
      "version": "3.8"
    }
  },
  "nbformat_minor": 5,
  "nbformat": 4,
  "cells": [
    {
      "cell_type": "markdown",
      "source": "### Removing duplicates from a python list \nThere can be various ways to remove the duplicates values for example\n* using list item as key in dictionary as we know dict dont have any duplicates \n* using set method duplicates values are removed from the the list\n* list comprehension enumerate()\n* naive method\n",
      "metadata": {},
      "id": "4c40b0b3-2450-44fd-866a-3cda038e8c3b"
    },
    {
      "cell_type": "markdown",
      "source": "### Naive Method\n In this method, here we make new list and ignore all the repeating elements using for loop ",
      "metadata": {},
      "id": "9c6b0e1c-be1a-4378-81cf-f77aa6d0d07e"
    },
    {
      "cell_type": "code",
      "source": "mylist = [1,2,3,4,5,1,2,3]\n\nnewlist = []\n\nfor i in mylist:\n    if i not in newlist:\n        newlist.append(i)\n\n\nprint(\" list after removing duplicates: \" + str(newlist))\n",
      "metadata": {
        "trusted": true
      },
      "execution_count": 5,
      "outputs": [
        {
          "name": "stdout",
          "text": " list after removing duplicates: [1, 2, 3, 4, 5]\n",
          "output_type": "stream"
        }
      ],
      "id": "e00945ac-d044-480c-a438-07ae5776e390"
    },
    {
      "cell_type": "code",
      "source": "",
      "metadata": {},
      "execution_count": null,
      "outputs": [],
      "id": "c357c6e8-7b4b-4a6b-bdc2-3491a558cf35"
    },
    {
      "cell_type": "markdown",
      "source": "### Removing Duplicates using dictionary \nas we know dictionary don't have any duplicate values  ",
      "metadata": {},
      "id": "66b6b8d3-0f8e-4fd6-8fd1-42ec24edf9ef"
    },
    {
      "cell_type": "code",
      "source": "from collections import OrderedDict\n\nresult = list(OrderedDict.fromkeys(mylist))\n\nprint(result)",
      "metadata": {
        "trusted": true
      },
      "execution_count": 7,
      "outputs": [
        {
          "name": "stdout",
          "text": "[1, 2, 3, 4, 5]\n",
          "output_type": "stream"
        }
      ],
      "id": "d49eeaab-a44b-4362-99a1-7281dc5952b1"
    },
    {
      "cell_type": "code",
      "source": "\n",
      "metadata": {},
      "execution_count": null,
      "outputs": [],
      "id": "7ff49416-0d21-4dbf-a395-8ce21089838f"
    },
    {
      "cell_type": "markdown",
      "source": "### List comprehensive",
      "metadata": {},
      "id": "19cb44d2-5817-47cf-b6b8-0f472bf892af"
    },
    {
      "cell_type": "code",
      "source": "",
      "metadata": {},
      "execution_count": null,
      "outputs": [],
      "id": "bbc16c71-947e-4537-8cdd-e290de68d6f2"
    }
  ]
}